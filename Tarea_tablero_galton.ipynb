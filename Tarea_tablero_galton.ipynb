{
 "cells": [
  {
   "cell_type": "markdown",
   "metadata": {},
   "source": [
    "Tarea:\n",
    "1. ¿Cuál es la distribución de probabilidad de estados para un tablero de Galton de profundidad N, con bifurcaciones Equiprobables?  \n",
    "Si consideramos como macroestados una numeración desde 0, será una binomial(nivel, 0.5), considerando el lado derecho como éxito\n",
    "2. ¿Cuál es la distribución de probabilidad de estados para un tablero de Galton de profundidad N, cuando un subconjunto de Bifurcaciones no son equiprobables? P(izq) = 0.6, P(der) = 0.4  \n",
    "Si consideramos como macroestados una numeración desde 0, será una binomial(nivel, 0.4), considerando el lado derecho como éxito\n",
    "3. ¿Qué ocurre si P(izr) disminuye en función de la profundidad?  \n",
    "Por ejemplo  \n",
    "P(izq) = 0.5 para profundidad = 1  \n",
    "P(izq) = 0.5 + 0.05 * profundidad (profundidad >=2)  \n",
    "Se programó la función proba_variable que toma un enfoque de funciones recursivas y va calculando las probabilidades en función de un nodo de decisión.\n"
   ]
  },
  {
   "cell_type": "code",
   "execution_count": 1,
   "metadata": {},
   "outputs": [],
   "source": [
    "import numpy"
   ]
  },
  {
   "cell_type": "code",
   "execution_count": 15,
   "metadata": {},
   "outputs": [
    {
     "name": "stdout",
     "output_type": "stream",
     "text": [
      "/c/Users/ARTEC/Documents/Maestria/2doSemestre/Deteccion_anomalias_homework\n"
     ]
    }
   ],
   "source": [
    "!pwd"
   ]
  },
  {
   "cell_type": "code",
   "execution_count": 2,
   "metadata": {},
   "outputs": [],
   "source": [
    "def multiplica_v(x,y):\n",
    "    \"\"\"\n",
    "    x: lista\n",
    "    y: lista\n",
    "    x y y tiene que tenener la misma longitud\n",
    "    \"\"\"\n",
    "    \n",
    "    if len(x) == len(y):\n",
    "        return [x_i * y_i for x_i, y_i in zip(x,y)]"
   ]
  },
  {
   "cell_type": "code",
   "execution_count": 3,
   "metadata": {},
   "outputs": [],
   "source": [
    "def factorial(n):\n",
    "    \"\"\"\n",
    "    n: entero\n",
    "    return  factorial del número entero\n",
    "    \"\"\"\n",
    "    if n < 1:\n",
    "        return 1\n",
    "    else:\n",
    "        return n * factorial(n-1)\n",
    "\n",
    "def n_comb(n,m):\n",
    "    return(int(factorial(n)/(factorial(m) * factorial(n - m))))"
   ]
  },
  {
   "cell_type": "code",
   "execution_count": 4,
   "metadata": {},
   "outputs": [],
   "source": [
    "def p_variable(nivel):\n",
    "    \"\"\"\n",
    "    nivel int del tablero actual\n",
    "    return probabilidad asociada a ese nivel\n",
    "    \"\"\"\n",
    "    if nivel >= 2:\n",
    "        return max(0, .5 - 0.05 * nivel)\n",
    "    else:\n",
    "        return .5"
   ]
  },
  {
   "cell_type": "code",
   "execution_count": 7,
   "metadata": {},
   "outputs": [],
   "source": [
    "def proba_variable(n, x):\n",
    "    p = p_variable(n)\n",
    "    if n == 0:\n",
    "        return [1]\n",
    "    elif x == n:\n",
    "        return multiplica_v([1 -p], proba_variable(n - 1, x - 1))\n",
    "    elif x == 0:\n",
    "        return  multiplica_v([p],proba_variable(n - 1, x))\n",
    "    else:\n",
    "        return multiplica_v([1-p] * n_comb(n - 1,x - 1), proba_variable(n - 1, x - 1)) + multiplica_v([p] * n_comb(n - 1,x), proba_variable(n - 1, x))\n",
    "            "
   ]
  },
  {
   "cell_type": "code",
   "execution_count": 12,
   "metadata": {},
   "outputs": [
    {
     "data": {
      "text/plain": [
       "[0.2]"
      ]
     },
     "execution_count": 12,
     "metadata": {},
     "output_type": "execute_result"
    }
   ],
   "source": [
    "proba_variable(2,0)"
   ]
  },
  {
   "cell_type": "code",
   "execution_count": 13,
   "metadata": {},
   "outputs": [
    {
     "data": {
      "text/plain": [
       "[0.3, 0.2]"
      ]
     },
     "execution_count": 13,
     "metadata": {},
     "output_type": "execute_result"
    }
   ],
   "source": [
    "proba_variable(2,1)"
   ]
  },
  {
   "cell_type": "code",
   "execution_count": 14,
   "metadata": {},
   "outputs": [
    {
     "data": {
      "text/plain": [
       "[0.3]"
      ]
     },
     "execution_count": 14,
     "metadata": {},
     "output_type": "execute_result"
    }
   ],
   "source": [
    "proba_variable(2,2)"
   ]
  },
  {
   "cell_type": "code",
   "execution_count": 10,
   "metadata": {},
   "outputs": [
    {
     "data": {
      "text/plain": [
       "1.0"
      ]
     },
     "execution_count": 10,
     "metadata": {},
     "output_type": "execute_result"
    }
   ],
   "source": [
    "sum(proba_variable(2,0)) +  sum(proba_variable(2,1)) + sum(proba_variable(2,2))# + sum(proba_variable(3,3))\n"
   ]
  },
  {
   "cell_type": "code",
   "execution_count": 11,
   "metadata": {},
   "outputs": [
    {
     "data": {
      "text/plain": [
       "1.0"
      ]
     },
     "execution_count": 11,
     "metadata": {},
     "output_type": "execute_result"
    }
   ],
   "source": [
    "sum(proba_variable(3,0)) + sum(proba_variable(3,1)) + sum(proba_variable(3,2)) + sum(proba_variable(3,3))\n"
   ]
  },
  {
   "cell_type": "code",
   "execution_count": null,
   "metadata": {},
   "outputs": [],
   "source": []
  },
  {
   "cell_type": "code",
   "execution_count": null,
   "metadata": {},
   "outputs": [],
   "source": []
  }
 ],
 "metadata": {
  "kernelspec": {
   "display_name": "Python 3",
   "language": "python",
   "name": "python3"
  },
  "language_info": {
   "codemirror_mode": {
    "name": "ipython",
    "version": 3
   },
   "file_extension": ".py",
   "mimetype": "text/x-python",
   "name": "python",
   "nbconvert_exporter": "python",
   "pygments_lexer": "ipython3",
   "version": "3.8.7"
  }
 },
 "nbformat": 4,
 "nbformat_minor": 4
}
