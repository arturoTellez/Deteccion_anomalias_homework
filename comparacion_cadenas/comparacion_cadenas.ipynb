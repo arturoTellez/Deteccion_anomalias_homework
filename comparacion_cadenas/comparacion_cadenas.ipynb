{
 "cells": [
  {
   "cell_type": "markdown",
   "metadata": {},
   "source": [
    "# Tarea.\n",
    "Dado:  \n",
    "* un alfabeto de dos símbolos (0,1) (m = 2), \n",
    "* secuencias de longitud l = 20, y \n",
    "* r en (1, 2, 3, 4, 5, ..., 15),  \n",
    "Calcular Pm en función de r para dos casos: Con y sin desplazamiento.  \n",
    "\n",
    "Para ello:  \n",
    "\n",
    "Para cada valor r, llevar a cabo k = 30 experimentos MC:  \n",
    "Sean So y S1 dos secuencias de longitud L generada al azar a partir de los m símbolos en el alfabeto.   \n",
    "Comparar.  \n",
    "¿Existe una secuencia de r posiciones que coincidan?  \n",
    "La probabilidad Pm(r) es el número de secuencias para las cuáles la respuesta a la pregunta es verdadera dividida entre k."
   ]
  },
  {
   "cell_type": "code",
   "execution_count": 1,
   "metadata": {},
   "outputs": [],
   "source": [
    "### importación de paquetes\n",
    "import numpy as np\n",
    "from multiprocessing import Pool\n",
    "import matplotlib.pyplot as plt\n",
    "from matplotlib import style\n",
    "style.use(\"ggplot\")"
   ]
  },
  {
   "cell_type": "code",
   "execution_count": 2,
   "metadata": {},
   "outputs": [],
   "source": [
    "np.random.seed(100) #Definición de semilla para que le notebook sea replicable"
   ]
  },
  {
   "cell_type": "code",
   "execution_count": 3,
   "metadata": {},
   "outputs": [
    {
     "name": "stdout",
     "output_type": "stream",
     "text": [
      "Help on built-in function choice:\n",
      "\n",
      "choice(...) method of numpy.random.mtrand.RandomState instance\n",
      "    choice(a, size=None, replace=True, p=None)\n",
      "    \n",
      "    Generates a random sample from a given 1-D array\n",
      "    \n",
      "    .. versionadded:: 1.7.0\n",
      "    \n",
      "    .. note::\n",
      "        New code should use the ``choice`` method of a ``default_rng()``\n",
      "        instance instead; please see the :ref:`random-quick-start`.\n",
      "    \n",
      "    Parameters\n",
      "    ----------\n",
      "    a : 1-D array-like or int\n",
      "        If an ndarray, a random sample is generated from its elements.\n",
      "        If an int, the random sample is generated as if a were np.arange(a)\n",
      "    size : int or tuple of ints, optional\n",
      "        Output shape.  If the given shape is, e.g., ``(m, n, k)``, then\n",
      "        ``m * n * k`` samples are drawn.  Default is None, in which case a\n",
      "        single value is returned.\n",
      "    replace : boolean, optional\n",
      "        Whether the sample is with or without replacement\n",
      "    p : 1-D array-like, optional\n",
      "        The probabilities associated with each entry in a.\n",
      "        If not given the sample assumes a uniform distribution over all\n",
      "        entries in a.\n",
      "    \n",
      "    Returns\n",
      "    -------\n",
      "    samples : single item or ndarray\n",
      "        The generated random samples\n",
      "    \n",
      "    Raises\n",
      "    ------\n",
      "    ValueError\n",
      "        If a is an int and less than zero, if a or p are not 1-dimensional,\n",
      "        if a is an array-like of size 0, if p is not a vector of\n",
      "        probabilities, if a and p have different lengths, or if\n",
      "        replace=False and the sample size is greater than the population\n",
      "        size\n",
      "    \n",
      "    See Also\n",
      "    --------\n",
      "    randint, shuffle, permutation\n",
      "    Generator.choice: which should be used in new code\n",
      "    \n",
      "    Notes\n",
      "    -----\n",
      "    Sampling random rows from a 2-D array is not possible with this function,\n",
      "    but is possible with `Generator.choice` through its ``axis`` keyword.\n",
      "    \n",
      "    Examples\n",
      "    --------\n",
      "    Generate a uniform random sample from np.arange(5) of size 3:\n",
      "    \n",
      "    >>> np.random.choice(5, 3)\n",
      "    array([0, 3, 4]) # random\n",
      "    >>> #This is equivalent to np.random.randint(0,5,3)\n",
      "    \n",
      "    Generate a non-uniform random sample from np.arange(5) of size 3:\n",
      "    \n",
      "    >>> np.random.choice(5, 3, p=[0.1, 0, 0.3, 0.6, 0])\n",
      "    array([3, 3, 0]) # random\n",
      "    \n",
      "    Generate a uniform random sample from np.arange(5) of size 3 without\n",
      "    replacement:\n",
      "    \n",
      "    >>> np.random.choice(5, 3, replace=False)\n",
      "    array([3,1,0]) # random\n",
      "    >>> #This is equivalent to np.random.permutation(np.arange(5))[:3]\n",
      "    \n",
      "    Generate a non-uniform random sample from np.arange(5) of size\n",
      "    3 without replacement:\n",
      "    \n",
      "    >>> np.random.choice(5, 3, replace=False, p=[0.1, 0, 0.3, 0.6, 0])\n",
      "    array([2, 3, 0]) # random\n",
      "    \n",
      "    Any of the above can be repeated with an arbitrary array-like\n",
      "    instead of just integers. For instance:\n",
      "    \n",
      "    >>> aa_milne_arr = ['pooh', 'rabbit', 'piglet', 'Christopher']\n",
      "    >>> np.random.choice(aa_milne_arr, 5, p=[0.5, 0.1, 0.1, 0.3])\n",
      "    array(['pooh', 'pooh', 'pooh', 'Christopher', 'piglet'], # random\n",
      "          dtype='<U11')\n",
      "\n"
     ]
    }
   ],
   "source": [
    "help(np.random.choice)"
   ]
  },
  {
   "cell_type": "code",
   "execution_count": 4,
   "metadata": {},
   "outputs": [],
   "source": [
    "def generar_secuencia(alfabeto = [0,1], l = 20):\n",
    "    \"\"\"\n",
    "    descripción:\n",
    "        función para crear secuencias usando un alfabeto y de tamaño específico\n",
    "    input:\n",
    "        alfabeto (list): valores deseados en el alfabeto\n",
    "        l (int): tamaño de la secuencia\n",
    "    output:\n",
    "        secuencia de tamaño l\n",
    "    \"\"\"\n",
    "    return np.random.choice(alfabeto, l, replace = True)\n",
    "    "
   ]
  },
  {
   "cell_type": "code",
   "execution_count": 5,
   "metadata": {},
   "outputs": [],
   "source": [
    "def simular_match(n_sim, r_min, l = 20):\n",
    "    \"\"\"\n",
    "    descripción:\n",
    "        función simular n_sim pares de secuencias y comparar el número de match\n",
    "    input:\n",
    "        n_sim (int): número de simulaciones\n",
    "        r_min (int): tamaño mínimo de coincidencias\n",
    "        l (int): tamaño de la secuencia\n",
    "    output:\n",
    "        (n_casos_exitosos, probabilidad_ocurrencia_r)\n",
    "        n_casos_exitosos: número de simulaciones que cumplieron tener un mínimo de r coincidencias\n",
    "        probabilidad_ocurrencia_r: n_casos_exitosos / n_sim\n",
    "    \"\"\"\n",
    "    n_casos_exitosos = 0\n",
    "    for i in range(n_sim):\n",
    "        n_casos_exitosos += np.sum(generar_secuencia(l = l) == generar_secuencia(l = l)) >= r_min\n",
    "    return n_casos_exitosos, n_casos_exitosos / n_sim "
   ]
  },
  {
   "cell_type": "code",
   "execution_count": 6,
   "metadata": {},
   "outputs": [],
   "source": [
    "probas = np.array([])\n",
    "for i in range(1, 16):\n",
    "    _, proba = simular_match(30, i)\n",
    "    probas = np.append(probas, proba)"
   ]
  },
  {
   "cell_type": "code",
   "execution_count": 7,
   "metadata": {},
   "outputs": [
    {
     "data": {
      "image/png": "[encoded data removed]",
      "text/plain": [
       "<Figure size 1080x1080 with 1 Axes>"
      ]
     },
     "metadata": {},
     "output_type": "display_data"
    }
   ],
   "source": [
    "plt.figure(figsize = (15, 15))\n",
    "plt.title(\"Probabilidad sin recorrido\")\n",
    "plt.xlabel(\"r\")\n",
    "plt.ylabel(\"P(r)\")\n",
    "plt.scatter(range(1,16), probas)\n",
    "plt.show()"
   ]
  },
  {
   "cell_type": "code",
   "execution_count": 8,
   "metadata": {},
   "outputs": [
    {
     "data": {
      "text/plain": [
       "array([False,  True,  True])"
      ]
     },
     "execution_count": 8,
     "metadata": {},
     "output_type": "execute_result"
    }
   ],
   "source": [
    "np.append(np.NAN,np.array([1,2])) == np.append(np.NAN,np.array([1,2]))"
   ]
  },
  {
   "cell_type": "code",
   "execution_count": 9,
   "metadata": {},
   "outputs": [],
   "source": [
    "def simular_match_desplazo(n_sim, r_min, l = 20):\n",
    "    \"\"\"\n",
    "    descripción:\n",
    "        función simular n_sim pares de secuencias y comparar el número de match\n",
    "    input:\n",
    "        n_sim (int): número de simulaciones\n",
    "        r_min (int): tamaño mínimo de coincidencias\n",
    "        l (int): tamaño de la secuencia\n",
    "    output:\n",
    "        (n_casos_exitosos, probabilidad_ocurrencia_r)\n",
    "        n_casos_exitosos: número de simulaciones que cumplieron tener un mínimo de r coincidencias\n",
    "        probabilidad_ocurrencia_r: n_casos_exitosos / n_sim\n",
    "    \"\"\"\n",
    "    n_casos_exitosos = 0\n",
    "    for i in range(n_sim):\n",
    "        flag = False #Bandera que indica si paso el evento o no\n",
    "        sec1 = generar_secuencia(l = l)\n",
    "        sec2 = generar_secuencia(l = l)\n",
    "        #print(\"==================\")\n",
    "        for j in range(0, l - r_min):\n",
    "            if np.sum(sec2 == sec1) >= r_min:\n",
    "                flag = True\n",
    "                break\n",
    "             #   print(\"Encontrado\")\n",
    "            sec1 = np.append(sec1, np.NAN)\n",
    "            sec2 = np.append(np.NAN, sec2)\n",
    "            #print(sec1, sec2)\n",
    "        n_casos_exitosos += flag\n",
    "    return n_casos_exitosos, n_casos_exitosos / n_sim "
   ]
  },
  {
   "cell_type": "code",
   "execution_count": 10,
   "metadata": {},
   "outputs": [
    {
     "data": {
      "text/plain": [
       "(3, 0.1)"
      ]
     },
     "execution_count": 10,
     "metadata": {},
     "output_type": "execute_result"
    }
   ],
   "source": [
    "simular_match_desplazo(30, 15)"
   ]
  },
  {
   "cell_type": "code",
   "execution_count": 11,
   "metadata": {},
   "outputs": [],
   "source": [
    "probas_desplaza = np.array([])\n",
    "for i in range(1, 16):\n",
    "    _, proba = simular_match_desplazo(30, i)\n",
    "    probas_desplaza = np.append(probas_desplaza, proba)"
   ]
  },
  {
   "cell_type": "code",
   "execution_count": 12,
   "metadata": {},
   "outputs": [
    {
     "data": {
      "image/png": "[encoded data removed]",
      "text/plain": [
       "<Figure size 1080x1080 with 1 Axes>"
      ]
     },
     "metadata": {},
     "output_type": "display_data"
    }
   ],
   "source": [
    "plt.figure(figsize = (15, 15))\n",
    "plt.title(\"Probabilidad sin recorrido\")\n",
    "plt.xlabel(\"r\")\n",
    "plt.ylabel(\"P(r)\")\n",
    "plt.scatter(range(1,16), probas_desplaza, label = \"con desplazamiento\")\n",
    "plt.legend()\n",
    "plt.show()"
   ]
  },
  {
   "cell_type": "code",
   "execution_count": 13,
   "metadata": {},
   "outputs": [
    {
     "data": {
      "image/png": "[encoded data removed]",
      "text/plain": [
       "<Figure size 1080x1080 with 1 Axes>"
      ]
     },
     "metadata": {},
     "output_type": "display_data"
    }
   ],
   "source": [
    "plt.figure(figsize = (15, 15))\n",
    "plt.title(\"Probabilidad sin recorrido\")\n",
    "plt.xlabel(\"r\")\n",
    "plt.ylabel(\"P(r)\")\n",
    "plt.scatter(range(1,16), probas, label = \"sin desplazamiento\", alpha = 0.5)\n",
    "plt.scatter(range(1,16), probas_desplaza, label = \"con desplazamiento\", alpha = 0.5)\n",
    "plt.legend()\n",
    "plt.show()"
   ]
  },
  {
   "cell_type": "markdown",
   "metadata": {},
   "source": [
    "## Conclusiones:\n",
    "Como era de esperarse el desplazamiento permite más posibilidades de que existan coincidencias de tamaños más grandes, en el caso de eventos con posibilidad de mover las cadenas se tiene una probabilidad de 1 hasta r = 9, mientras que en el caso de no desplazamiento la probabilidad de 1 se mantiene hasta r = 5\n"
   ]
  },
  {
   "cell_type": "code",
   "execution_count": null,
   "metadata": {},
   "outputs": [],
   "source": []
  }
 ],
 "metadata": {
  "kernelspec": {
   "display_name": "Python 3",
   "language": "python",
   "name": "python3"
  },
  "language_info": {
   "codemirror_mode": {
    "name": "ipython",
    "version": 3
   },
   "file_extension": ".py",
   "mimetype": "text/x-python",
   "name": "python",
   "nbconvert_exporter": "python",
   "pygments_lexer": "ipython3",
   "version": "3.8.7"
  }
 },
 "nbformat": 4,
 "nbformat_minor": 4
}
